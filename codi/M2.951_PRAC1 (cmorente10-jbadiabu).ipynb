{
 "cells": [
  {
   "cell_type": "markdown",
   "metadata": {},
   "source": [
    "<div style=\"width: 100%; clear: both;\">\n",
    "<div style=\"float: left; width: 50%;\">\n",
    "<img src=\"http://www.uoc.edu/portal/_resources/common/imatges/marca_UOC/UOC_Masterbrand.jpg\", align=\"left\">\n",
    "</div>\n",
    "<div style=\"float: right; width: 50%;\">\n",
    "<p style=\"margin: 0; padding-top: 22px; text-align:right;\"><strong>M2.951 · Tipologia i cicle de vida de les dades aula 1</strong></p>\n",
    "<p style=\"margin: 0; text-align:right;\">Màster universitari en Ciència de dades (<i>Data science</i>)</p>\n",
    "<p style=\"margin: 0; text-align:right; padding-button: 100px;\">Estudis d'Informàtica, Multimèdia i Telecomunicació</p>\n",
    "</div>\n",
    "</div>\n",
    "<div style=\"width:100%;\">&nbsp;</div>\n"
   ]
  },
  {
   "cell_type": "markdown",
   "metadata": {},
   "source": [
    "<div style=\"\n",
    "       font-family: 'Arial';\n",
    "       font-weight: normal;\n",
    "       font-size: 12px;\n",
    "       text-decoration: none;\n",
    "       color: DodgerBlue;\n",
    "       background-color: LavenderBlush;\n",
    "       border-top: 4px solid LightCoral;\n",
    "       border-bottom: 4px solid LightCoral;\n",
    "       line-height: 1.2;\n",
    "       padding: 0.5em;\n",
    "       padding-left: 1.0em;\">\n",
    "\n",
    "<h2>Pràctica 1 - Web scraping</h2>\n",
    "<p>\n",
    "    <b>Equip</b>: Clàudia Morente <i>(cmorente10)</i> i Josep Badia <i>(jbadiabu)</i><br>\n",
    "    <i>Abril 2021</i>\n",
    "</p>\n",
    "</div>"
   ]
  },
  {
   "cell_type": "markdown",
   "metadata": {},
   "source": [
    "# Extracció de la Programació de MEDIASET *españa*"
   ]
  },
  {
   "cell_type": "markdown",
   "metadata": {},
   "source": [
    "L'objectiu d'aquesta activitat és generar un conjunt de dades que contingui informació sobre la Programació de TV disponible a les diferents cadenes que ofereix la companyia [Mediaset](https://www.mediaset.es/).\n",
    "\n",
    "Els requeriments desitjables per a aquest projecte serien principalment els següents:\n",
    "\n",
    "> * Per assegurar la capacitat d'evolució i minimitzar la dependència dels canvis en el *sitemap*, cal que la URL d'inici de l'exploració (*crawling*) sigui la pàgina d'[inici](https://www.mediaset.es/) de **Mediaset**. És a dir, volem explorar desde la rel, evitant (a poder ser) que el procés inspeccioni directament una URL com per exemple: https://www.mediaset.es/programas/guia-tv/\n",
    "> * El *Dataset* que es dissenyi i generi ha de ser prou \"ric\" per a poder fer un bon Anàlisi dels Continguts de la corporació (en aquest cas Mediaset).\n",
    "> * Però alhora suficientment \"estàndard\" per a poder-se integrar bé amb els *datasets* obtinguts d'altres companyies. En qualsevol cas, cal prioritzar la riquesa de les dades per sobre de la estandaritat.\n",
    "> * El procés que s'executi ha de poder funcionar de forma incremental: és a dir, cal que es pugui executar diverses vegades, i només afegeixi els nous registres que es detectin, sense sobreescriure els anteriors.\n",
    "> * Queda **fora de l'àmbit** d'aquest projecte l'anàlisi i postprocessament de les dades obtingudas, típicament per a integrar-ho a una Base de Dades Mestre de Continguts.\n",
    "> * El fet de que obtinguem la informació de la \"Programació\" li confereix a les dades un sentit temporal, és a dir que un registre d'*Emisió* ha de tenir clarament marcada la data-hora d'inici, així com la data-hora de finalització. Junt amb la cadena podríen formar la \"clau\" de registre.\n",
    "> * Al marge de la Programació (Guia de TV), quants més atributs afegim als programes, millor.\n",
    "> * Pel que fa a l'algorisme que es dissenyi, és important dotar-lo de simplicitat i flexibilitat per adaptar-lo a altres companyies de mitjans audiovisuals.\n",
    "\n",
    "\n",
    "#### Parts d'aquest *notebook*\n",
    "\n",
    "Està estructurat en 4 seccions de diferent *pes*.\n",
    "\n",
    "1. Una primera exclusiva per a les inicialitzacions, bàsicament per carregar llibreries\n",
    "2. Exploració: també es tractaria d'una secció senzilla on simplement es tractaria de llegir el *robots.txt* i el *sitemap*, per a poder aplicar els resultats al nostre *Agent*.\n",
    "3. Aquesta part representaria el nucli del projecte. Es podria subdividir en altres apartats: per exemple, implementació, execució i recollida de resultats.\n",
    "4. Finalment una petita secció que serveixi d'aparador de les dades obtingudes.\n"
   ]
  },
  {
   "cell_type": "markdown",
   "metadata": {},
   "source": [
    "## 1. Inicialitzacions"
   ]
  },
  {
   "cell_type": "code",
   "execution_count": 1,
   "metadata": {
    "ExecuteTime": {
     "end_time": "2021-03-23T12:37:56.028793Z",
     "start_time": "2021-03-23T12:37:54.985566Z"
    }
   },
   "outputs": [],
   "source": [
    "import scrapy\n",
    "from scrapy.crawler import CrawlerRunner\n",
    "from twisted.internet import reactor\n",
    "\n",
    "import pandas as pd\n",
    "pd.options.display.width = 200\n",
    "pd.options.display.max_columns = 80\n"
   ]
  },
  {
   "cell_type": "code",
   "execution_count": null,
   "metadata": {},
   "outputs": [],
   "source": []
  },
  {
   "cell_type": "markdown",
   "metadata": {},
   "source": [
    "## 2. Exploració inicial"
   ]
  },
  {
   "cell_type": "code",
   "execution_count": null,
   "metadata": {},
   "outputs": [],
   "source": []
  },
  {
   "cell_type": "code",
   "execution_count": null,
   "metadata": {},
   "outputs": [],
   "source": []
  },
  {
   "cell_type": "code",
   "execution_count": null,
   "metadata": {},
   "outputs": [],
   "source": []
  },
  {
   "cell_type": "markdown",
   "metadata": {},
   "source": [
    "## 3. Agent"
   ]
  },
  {
   "cell_type": "code",
   "execution_count": 2,
   "metadata": {
    "ExecuteTime": {
     "end_time": "2021-03-23T12:37:56.038765Z",
     "start_time": "2021-03-23T12:37:56.031783Z"
    }
   },
   "outputs": [],
   "source": [
    "# Implementació de la classe\n",
    "\n",
    "class MediasetSpider(scrapy.Spider):\n",
    "    name = \"Mediaset-Spider\"\n",
    "    start_urls = ['https://www.mediaset.es/']\n",
    "\n",
    "    def start_requests(self):\n",
    "        for url in self.start_urls:\n",
    "            yield scrapy.Request(url=url, callback=self.parse_front)\n",
    "\n",
    "    def parse_front(self, response):\n",
    "        pass\n",
    "        \n",
    "    def parse_pages(self, response):\n",
    "        pass\n",
    "\n",
    "    def closed(self, reason):\n",
    "        print(\"{} has been closed due to: {}\".format(self.name, reason))\n"
   ]
  },
  {
   "cell_type": "code",
   "execution_count": 3,
   "metadata": {
    "ExecuteTime": {
     "end_time": "2021-03-23T12:38:06.010247Z",
     "start_time": "2021-03-23T12:38:04.544138Z"
    }
   },
   "outputs": [
    {
     "name": "stdout",
     "output_type": "stream",
     "text": [
      "Mediaset-Spider has been closed due to: finished\n"
     ]
    }
   ],
   "source": [
    "# Procés\n",
    "\n",
    "if reactor._startedBefore:\n",
    "    print(\"No es pot executar l'Spider més d'un cop dins de la mateixa 'thread'\")\n",
    "    print(\"Cal reiniciar el kernel del 'jupyter notebook'!!!\")\n",
    "else:\n",
    "    runner = CrawlerRunner()\n",
    "    d = runner.crawl(MediasetSpider)\n",
    "    d.addBoth(lambda _: reactor.stop())\n",
    "    reactor.run()\n"
   ]
  },
  {
   "cell_type": "code",
   "execution_count": null,
   "metadata": {},
   "outputs": [],
   "source": []
  },
  {
   "cell_type": "code",
   "execution_count": null,
   "metadata": {},
   "outputs": [],
   "source": []
  },
  {
   "cell_type": "markdown",
   "metadata": {},
   "source": [
    "## 4. Dataset"
   ]
  },
  {
   "cell_type": "code",
   "execution_count": null,
   "metadata": {},
   "outputs": [],
   "source": []
  },
  {
   "cell_type": "code",
   "execution_count": null,
   "metadata": {},
   "outputs": [],
   "source": []
  },
  {
   "cell_type": "code",
   "execution_count": null,
   "metadata": {},
   "outputs": [],
   "source": []
  },
  {
   "cell_type": "code",
   "execution_count": null,
   "metadata": {},
   "outputs": [],
   "source": []
  },
  {
   "cell_type": "code",
   "execution_count": null,
   "metadata": {},
   "outputs": [],
   "source": []
  },
  {
   "cell_type": "code",
   "execution_count": null,
   "metadata": {},
   "outputs": [],
   "source": []
  },
  {
   "cell_type": "code",
   "execution_count": null,
   "metadata": {},
   "outputs": [],
   "source": []
  },
  {
   "cell_type": "code",
   "execution_count": null,
   "metadata": {},
   "outputs": [],
   "source": []
  },
  {
   "cell_type": "code",
   "execution_count": null,
   "metadata": {},
   "outputs": [],
   "source": []
  },
  {
   "cell_type": "markdown",
   "metadata": {},
   "source": [
    "## Proves vàries (secció a *esborrar* abans d'entregar)"
   ]
  },
  {
   "cell_type": "code",
   "execution_count": null,
   "metadata": {},
   "outputs": [],
   "source": []
  },
  {
   "cell_type": "code",
   "execution_count": null,
   "metadata": {},
   "outputs": [],
   "source": []
  },
  {
   "cell_type": "code",
   "execution_count": null,
   "metadata": {},
   "outputs": [],
   "source": []
  },
  {
   "cell_type": "code",
   "execution_count": null,
   "metadata": {},
   "outputs": [],
   "source": []
  },
  {
   "cell_type": "code",
   "execution_count": null,
   "metadata": {},
   "outputs": [],
   "source": []
  },
  {
   "cell_type": "code",
   "execution_count": null,
   "metadata": {},
   "outputs": [],
   "source": []
  },
  {
   "cell_type": "code",
   "execution_count": null,
   "metadata": {},
   "outputs": [],
   "source": []
  },
  {
   "cell_type": "code",
   "execution_count": null,
   "metadata": {},
   "outputs": [],
   "source": []
  },
  {
   "cell_type": "code",
   "execution_count": null,
   "metadata": {},
   "outputs": [],
   "source": []
  },
  {
   "cell_type": "code",
   "execution_count": null,
   "metadata": {},
   "outputs": [],
   "source": []
  },
  {
   "cell_type": "code",
   "execution_count": null,
   "metadata": {},
   "outputs": [],
   "source": []
  },
  {
   "cell_type": "code",
   "execution_count": null,
   "metadata": {},
   "outputs": [],
   "source": []
  },
  {
   "cell_type": "code",
   "execution_count": null,
   "metadata": {},
   "outputs": [],
   "source": []
  },
  {
   "cell_type": "code",
   "execution_count": null,
   "metadata": {},
   "outputs": [],
   "source": []
  },
  {
   "cell_type": "code",
   "execution_count": null,
   "metadata": {},
   "outputs": [],
   "source": []
  },
  {
   "cell_type": "code",
   "execution_count": null,
   "metadata": {},
   "outputs": [],
   "source": []
  },
  {
   "cell_type": "code",
   "execution_count": null,
   "metadata": {},
   "outputs": [],
   "source": []
  }
 ],
 "metadata": {
  "jupytext": {
   "cell_metadata_filter": "echo,eval,-all",
   "main_language": "R",
   "notebook_metadata_filter": "-all"
  },
  "kernelspec": {
   "display_name": "Python 3",
   "language": "python",
   "name": "python3"
  },
  "language_info": {
   "codemirror_mode": {
    "name": "ipython",
    "version": 3
   },
   "file_extension": ".py",
   "mimetype": "text/x-python",
   "name": "python",
   "nbconvert_exporter": "python",
   "pygments_lexer": "ipython3",
   "version": "3.7.9"
  }
 },
 "nbformat": 4,
 "nbformat_minor": 4
}
